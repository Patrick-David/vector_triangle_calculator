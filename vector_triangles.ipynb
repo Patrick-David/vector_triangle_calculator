{
 "cells": [
  {
   "cell_type": "markdown",
   "metadata": {},
   "source": [
    "Function for calculating various metrics of a triangle,\n",
    "\n",
    "from a 'vector' / 'linear algebra' point of view.\n",
    "\n",
    "\n",
    "The calculations are deliberately inefficient as they serve to show the vector\n",
    "\n",
    "form of the calculations (Dot Products, Law of Cosines etc) rather than outright\n",
    "\n",
    "computational efficiency.\n"
   ]
  },
  {
   "cell_type": "code",
   "execution_count": null,
   "metadata": {
    "collapsed": true
   },
   "outputs": [],
   "source": [
    "import math    \n",
    "import matplotlib.pyplot as plt\n",
    "\n",
    "\n",
    "def triangle(a0,a1,b0,b1):\n",
    "    \"\"\"\n",
    "    [a0 a1] = units for vector 'A' (eg: 1,1.5)\n",
    "    \n",
    "    [b0 b1] = units for vector 'B'\n",
    "    \n",
    "    Function will return various metrics for angles and lengths\n",
    "    of a triangle, given two of the three sides (vectors).\n",
    "    \n",
    "    Will also produce a plot of the vectors\n",
    "    \"\"\"\n",
    "    \n",
    "    \n",
    "    \n",
    "    \n",
    "    ax = plt.axes()\n",
    "    ax.quiver(a0,a1, scale = 5)\n",
    "    ax.quiver(b0,b1, scale = 5)\n",
    "    \n",
    "    \n",
    "    \n",
    "    \n",
    "    #L2 norm^2 (squared length of vector)\n",
    "    length_a = ((a0**2)+(a1**2))\n",
    "    length_b = ((b0**2)+(b1**2))\n",
    "    length_c = (((a0-b0)*(a0-b0))+((a1-b1)*(a1-b1)))\n",
    "    \n",
    "    #l2 norm sqrt (length of vector)    \n",
    "    length_asqrt = ((a0**2)+(a1**2))**0.5\n",
    "    \n",
    "    length_bsqrt = ((b0**2)+(b1**2))**0.5\n",
    "    \n",
    "    length_csqrt = (((a0-b0)*(a0-b0))+((a1-b1)*(a1-b1)))**0.5\n",
    "    \n",
    "    #Perimeter (A+B+C)\n",
    "    perim = length_asqrt+length_bsqrt+length_csqrt\n",
    "    \n",
    "    #Dt Product or Inner Product (for the 2 given vectors)    \n",
    "    dot_prod = (a0*b0)+(a1*b1)\n",
    "    # Only works when we can calculate DP (which we aren't given as an input)\n",
    "    #thetaAB = math.acos(dot_prod/((length_a2)*(length_b2)))\n",
    "    #angleAB = math.degrees(thetaAB)\n",
    "\n",
    "    thetaAB = (length_a+length_b-length_c)/(2*length_asqrt*length_bsqrt)\n",
    "    angleAB = math.degrees(math.acos(thetaAB))\n",
    "    \n",
    "    thetaAC = (length_a+length_c-length_b)/(2*length_csqrt*length_asqrt)\n",
    "    angleAC = math.degrees(math.acos(thetaAC))\n",
    "    \n",
    "    thetaCB = (length_c+length_b-length_a)/(2*length_csqrt*length_bsqrt)\n",
    "    angleCB = math.degrees(math.acos(thetaCB))\n",
    "    check = angleAB+angleAC+angleCB\n",
    "    \n",
    "    #Heron's Formula:  s = (a+b+c)/2 = 6\n",
    "    \n",
    "    s = (length_asqrt+length_bsqrt+length_csqrt)/2\n",
    "    \n",
    "    area = (s*(s-length_asqrt)*(s-length_bsqrt)*(s-length_csqrt))**0.5\n",
    "        \n",
    "    print 'Length Side A:     ', length_asqrt\n",
    "    print 'Length Side B:     ', length_bsqrt\n",
    "    print 'Length Side C:     ', length_csqrt\n",
    "    print 'Perimeter:         ', perim      \n",
    "    print 'Angle AB:          ', angleAB\n",
    "    print 'Angle CB:          ', angleCB\n",
    "    print 'Angle AB:          ', angleAC\n",
    "    print 'Check angle 180    ', check   \n",
    "    print 'Area of triangle   ', area\n",
    "    print 'Dot Product A.B:   ', dot_prod\n",
    "    \n"
   ]
  },
  {
   "cell_type": "code",
   "execution_count": null,
   "metadata": {
    "collapsed": true
   },
   "outputs": [],
   "source": [
    "triangle(0,1,1,1.5)    "
   ]
  }
 ],
 "metadata": {
  "kernelspec": {
   "display_name": "Python 2",
   "language": "python",
   "name": "python2"
  },
  "language_info": {
   "codemirror_mode": {
    "name": "ipython",
    "version": 2
   },
   "file_extension": ".py",
   "mimetype": "text/x-python",
   "name": "python",
   "nbconvert_exporter": "python",
   "pygments_lexer": "ipython2",
   "version": "2.7.11"
  }
 },
 "nbformat": 4,
 "nbformat_minor": 0
}
